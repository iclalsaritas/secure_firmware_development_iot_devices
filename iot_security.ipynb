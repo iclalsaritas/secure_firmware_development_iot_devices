{
  "nbformat": 4,
  "nbformat_minor": 0,
  "metadata": {
    "colab": {
      "provenance": [],
      "authorship_tag": "ABX9TyNoVi6tnJOK35tV/OXTSQSa"
    },
    "kernelspec": {
      "name": "python3",
      "display_name": "Python 3"
    },
    "language_info": {
      "name": "python"
    }
  },
  "cells": [
    {
      "cell_type": "code",
      "execution_count": null,
      "metadata": {
        "colab": {
          "base_uri": "https://localhost:8080/"
        },
        "id": "qOZuYWmiP4pB",
        "outputId": "97d215fb-99f4-4350-9082-c8b3dedaf836"
      },
      "outputs": [
        {
          "output_type": "stream",
          "name": "stdout",
          "text": [
            "Parolanı gir:iclal\n",
            "Hashlenmiş parola: <function hash_password at 0x7ea1699284a0>\n"
          ]
        }
      ],
      "source": [
        "import hashlib\n",
        "def hash_password(password):\n",
        "  hashed_password = hashlib.sha256(password.encode()).hexdigest()\n",
        "  return hashed_password\n",
        "\n",
        "def main():\n",
        "  password = input(\"Parolanı gir:\")\n",
        "  hashed_password = hash_password(password)\n",
        "  print(\"Hashlenmiş parola:\", hash_password)\n",
        "\n",
        "if __name__ == \"__main__\":\n",
        "    main()\n"
      ]
    },
    {
      "cell_type": "code",
      "source": [
        "import os\n",
        "import random\n",
        "import string\n",
        "\n",
        "def generate_random_string(length=16):\n",
        "  characters = string.ascii_letters + string.digits + string.punctuation\n",
        "  random_string = ''.join(random.choice(characters) for i in range(length))\n",
        "\n",
        "  return random_string\n",
        "\n",
        "def main():\n",
        "  cryptographic_key = generate_random_string(32)\n",
        "  print(\"Kriptografik Anahtar:\", cryptographic_key)\n",
        "  os.system(\"shred -u -z -n 30\")\n",
        "\n",
        "if __name__ == \"__main__\":\n",
        "    main()"
      ],
      "metadata": {
        "colab": {
          "base_uri": "https://localhost:8080/"
        },
        "id": "z2l7j3n9SRvE",
        "outputId": "623031b2-2f61-42b7-d8bb-83e60360e154"
      },
      "execution_count": null,
      "outputs": [
        {
          "output_type": "stream",
          "name": "stdout",
          "text": [
            "Kriptografik Anahtar: ;r)]?5^J[B{ETG2=kK0.}$'ph7{QKC<4\n"
          ]
        }
      ]
    },
    {
      "cell_type": "code",
      "source": [
        "import hashlib\n",
        "import random\n",
        "import string\n",
        "import os\n",
        "\n",
        "def generate_random_string(length=16):\n",
        "  characters = string.ascii_letters + string.digits + string.punctuation\n",
        "  return ''.join(random.choice(characters) for i in range(length))\n",
        "\n",
        "def calculate_file_hash(file_data):\n",
        "  return hashlib.sha256(file_data).hexdigest()\n",
        "\n",
        "def verify_file_integrity(file_data, expected_hash):\n",
        "  file_hash = calculate_file_hash(file_data)\n",
        "  return file_hash == expected_hash\n",
        "\n",
        "def main():\n",
        "  cryptographic_key = generate_random_string(32)\n",
        "  print(\"Kriptografik anahtar:\", cryptographic_key)\n",
        "\n",
        "  file_data = os.urandom(1024)\n",
        "  expected_hash = calculate_file_hash(file_data)\n",
        "  print(\"Expected hash:\", expected_hash)\n",
        "\n",
        "  if verify_file_integrity(file_data, expected_hash):\n",
        "    print(\"File data integrity verified.\")\n",
        "  else:\n",
        "    print(\"File data integrity check failed. Possible tampering detected.\")\n",
        "\n",
        "  os.system(\"shred -u -z -n 30 cryptographic_key.bin\")\n",
        "\n",
        "if __name__ == \"__main__\":\n",
        "  main()\n"
      ],
      "metadata": {
        "colab": {
          "base_uri": "https://localhost:8080/"
        },
        "id": "NgfUiagkXNy-",
        "outputId": "92480bb7-362f-4ce4-f589-f5fbc496d4b7"
      },
      "execution_count": null,
      "outputs": [
        {
          "output_type": "stream",
          "name": "stdout",
          "text": [
            "Kriptografik anahtar: AJ:jJ[1WGAWsRVot&ZONO5Qx''8#;PzX\n",
            "Expected hash: 540e0b10ee1712645e8eb57aa3811d22c12c088714959b9a60a95f3e8df204d9\n",
            "File data integrity verified.\n"
          ]
        }
      ]
    },
    {
      "cell_type": "code",
      "source": [
        "import hashlib\n",
        "import os\n",
        "import random\n",
        "import string\n",
        "\n",
        "def generate_random_string(length=16):\n",
        "  characters = string.ascii_letters + string.digits + string.punctuation\n",
        "  return ''.join(random.choice(characters) for i in range(length))\n",
        "\n",
        "def calculate_data_hash(data):\n",
        "  data_hash == expected_hash\n",
        "\n",
        "def secure_erase(data):\n",
        "  data_length = len(data)\n",
        "  overwritten_data = b'\\x00' * data_length\n",
        "  del data\n",
        "  return\n",
        "\n",
        "def main():\n",
        "  cryptographic_key = generate_random_string(32).encode('utf-8')\n",
        "  print(\"kriptografik anahtar:\", cryptographic_key.decode('utf-8'))\n",
        "  bootloader_data = os.urandom(1024)\n",
        "  expected_hash = calculate_data_hash(bootloader_data)\n",
        "\n"
      ],
      "metadata": {
        "id": "J9gszZn6XO4b"
      },
      "execution_count": null,
      "outputs": []
    },
    {
      "cell_type": "code",
      "source": [
        "import hashlib\n",
        "import secrets\n",
        "\n",
        "def validate_input(input_data):\n",
        "  if not any(char in input_data for char in '*1/%423@()'):\n",
        "    return True\n",
        "  else:\n",
        "    return False\n",
        "\n",
        "def generate_random_token(length=16):\n",
        "  return secrets.token_hex(length)\n",
        "\n",
        "def main():\n",
        "  username = input(\"Adını gir:\")\n",
        "  if not validate_input(username):\n",
        "    print(\"Geçersiz kullanıcı adı. özel karakterlere izin verilmiyor.\")\n",
        "    return\n",
        "\n",
        "token = generate_random_token(32)\n",
        "print(\"Generated token:\", token)\n",
        "\n",
        "password = input(\"Parolanı gir:\")\n",
        "hashed_password = hashlib.sha256(password.encode()).hexdigest()\n",
        "print(\"Hashlenmiş parola:\", hashed_password)\n",
        "\n",
        "if __name__ == \"__main__\":\n",
        "  main()"
      ],
      "metadata": {
        "colab": {
          "base_uri": "https://localhost:8080/"
        },
        "id": "VfTZYyhdUd3v",
        "outputId": "06b17be9-7ed5-4729-b16d-60d0e123e564"
      },
      "execution_count": null,
      "outputs": [
        {
          "output_type": "stream",
          "name": "stdout",
          "text": [
            "Generated token: 1b18e1415e3dedfe3a26ba3af63a6f87e5c586a1cceed0e0232e0790590c034e\n",
            "Parolanı gir:şşş\n",
            "Hashlenmiş parola: f3b484446227695cd1143fb6b77b679bb940408c6544b8a48d1c6cd907fc4037\n",
            "Adını gir:şşş\n",
            "Geçersiz kullanıcı adı. özel karakterlere izin verilmiyor.\n"
          ]
        }
      ]
    },
    {
      "cell_type": "code",
      "source": [
        "import hashlib\n",
        "import os\n",
        "import random\n",
        "import string\n",
        "\n",
        "def generate_random_string(length=16):\n",
        "  characters = string.ascii_letters + string.digits + string.punctuation\n",
        "  return  ''.join(random.choice(characters) for i in range(length))\n",
        "\n",
        "def calculate_data_hash(data):\n",
        "  return hashlib.sha256(data).hexdigest()\n",
        "\n",
        "def verify_data_integrity(data, expected_hash):\n",
        "  data_hash = calculate_data_hash(data)\n",
        "  return data_hash == expected_hash\n",
        "\n",
        "def secure_erase(data):\n",
        "  data_length = len (data)\n",
        "  overwritten_data = b'\\x00' * data_length\n",
        "  del data\n",
        "  return\n",
        "\n",
        "def main():\n",
        "  cryptographic_key = generate_random_string(32).encode('utf-8')\n",
        "  print(\"Cryptgoraphic Key:\", cryptographic_key.decode('utf-8'))\n",
        "  bootloader_data = os.urandom(1024)\n",
        "  expected_hash = calculate_data_hash(bootloader_data)\n",
        "  print(\"Expected Hash:\", expected_hash)\n",
        "  if verify_data_integrity(bootloader_data, expected_hash):\n",
        "    print(\"Bootloader data integrity verified\")\n",
        "  else:\n",
        "    print(\"Bootloader data integrity check failed. Possible tampering detected\")\n",
        "  secure_erase(cryptographic_key)\n",
        "  print(\"Cryptographic key securely erased\")\n",
        "\n",
        "if __name__ == \"__main__\":\n",
        "  main()\n",
        "\n",
        "\n"
      ],
      "metadata": {
        "colab": {
          "base_uri": "https://localhost:8080/"
        },
        "id": "MX7lJarkded8",
        "outputId": "3feafa10-fc52-4dac-d538-f249b3531ff1"
      },
      "execution_count": 3,
      "outputs": [
        {
          "output_type": "stream",
          "name": "stdout",
          "text": [
            "Cryptgoraphic Key: `zd*VeJ(R_yeZZoa83@^HOfn05f0O7B|\n",
            "Expected Hash: 8f4582f2d7b17f56cd6529c99a1691476c16c2ebe4ab34f058db78aacc6197b7\n",
            "Bootloader data integrity verified\n",
            "Cryptographic key securely erased\n"
          ]
        }
      ]
    },
    {
      "cell_type": "code",
      "source": [
        "import hashlib\n",
        "import os\n",
        "import random\n",
        "import string\n",
        "\n",
        "def generate_random_string(length=16):\n",
        "    characters = string.ascii_letters + string.digits + string.punctuation\n",
        "    return ''.join(random.choice(characters) for _ in range(length))\n",
        "\n",
        "def calculate_data_hash(data):\n",
        "    return hashlib.sha256(data).hexdigest()\n",
        "\n",
        "def verify_data_integrity(data, expected_hash):\n",
        "    data_hash = calculate_data_hash(data)\n",
        "    return data_hash == expected_hash\n",
        "\n",
        "def secure_erase(data):\n",
        "    if isinstance(data, bytearray):\n",
        "        for i in range(len(data)):\n",
        "            data[i] = 0\n",
        "    elif isinstance(data, bytes):\n",
        "        data = b'\\x00' * len(data)\n",
        "    return data\n",
        "\n",
        "def main():\n",
        "    try:\n",
        "        key_length = int(input(\"Enter the length of the cryptographic key: \"))\n",
        "        if key_length <= 0:\n",
        "            print(\"Invalid key length. Please enter a positive integer.\")\n",
        "            return\n",
        "\n",
        "        cryptographic_key = generate_random_string(key_length)\n",
        "        print(\"Cryptographic key:\", cryptographic_key)\n",
        "\n",
        "        key_data = os.urandom(key_length)\n",
        "        expected_hash = calculate_data_hash(key_data)\n",
        "        print(\"Expected hash:\", expected_hash)\n",
        "\n",
        "        if verify_data_integrity(key_data, expected_hash):\n",
        "            print(\"Cryptographic key data integrity verified.\")\n",
        "        else:\n",
        "            print(\"Cryptographic key data integrity check failed. Possible tampering detected.\")\n",
        "\n",
        "        erase_confirmation = input(\"Do you want to securely erase the cryptographic key? (yes/no): \")\n",
        "        if erase_confirmation.lower() == 'yes':\n",
        "            key_data = secure_erase(bytearray(key_data))\n",
        "            print(\"Cryptographic key securely erased.\")\n",
        "        else:\n",
        "            print(\"Cryptographic key was not erased.\")\n",
        "\n",
        "    except ValueError:\n",
        "        print(\"Invalid input. Please enter a valid integer for the key length.\")\n",
        "    except Exception as e:\n",
        "        print(\"An error occurred:\", e)\n",
        "\n",
        "if __name__ == \"__main__\":\n",
        "    main()\n"
      ],
      "metadata": {
        "colab": {
          "base_uri": "https://localhost:8080/"
        },
        "id": "emdCLdrwi-S9",
        "outputId": "2e314856-1477-4824-db27-86d3bd9da047"
      },
      "execution_count": 26,
      "outputs": [
        {
          "output_type": "stream",
          "name": "stdout",
          "text": [
            "Enter the length of the cryptographic key: adsfs\n",
            "Invalid input. Please enter a valid integer for the key length.\n"
          ]
        }
      ]
    },
    {
      "cell_type": "code",
      "source": [
        "from inspect import signature\n",
        "import hashlib\n",
        "import random\n",
        "import string\n",
        "\n",
        "def generate_random_firmware(size):\n",
        "  characters = string.ascii_letters + string.digits + string.punctuation\n",
        "  return bytes(''.join(random.choice(characters) for i in range(size)), 'utf-8')\n",
        "\n",
        "def calculate_data_hash(data):\n",
        "  return hashlib.sha256(data).hexdigest()\n",
        "\n",
        "def sign_firmware(firmware_data, private_key):\n",
        "  firmware_hash = calculate_data_hash(firmware_data)\n",
        "  return firmware_hash\n",
        "\n",
        "def verify_firmware_integrity(firmware_data, signature, public_key):\n",
        "  recalculated_hash = calculate_data_hash(firmware_data)\n",
        "  return recalculated_hash == signature\n",
        "\n",
        "def main():\n",
        "  firmware_size = 1024\n",
        "  private_key = \"private_key.pem\"\n",
        "  public_key = \"public_key.pem\"\n",
        "\n",
        "  firmware_data = generate_random_firmware(firmware_size)\n",
        "  signature = sign_firmware(firmware_data, private_key)\n",
        "  print(\"Firmware signature:\", signature)\n",
        "\n",
        "  if verify_firmware_integrity(firmware_data, signature, public_key):\n",
        "    print(\"Firmware integrity verified\")\n",
        "  else:\n",
        "    print(\"Firmware integrity check failed. possible tampering detected\")\n",
        "\n",
        "if __name__ == '__main__':\n",
        "    main()\n"
      ],
      "metadata": {
        "colab": {
          "base_uri": "https://localhost:8080/"
        },
        "id": "90efpT4zpY2H",
        "outputId": "b3637285-fc70-4e13-cbb1-a5278679e39c"
      },
      "execution_count": 16,
      "outputs": [
        {
          "output_type": "stream",
          "name": "stdout",
          "text": [
            "Firmware signature: 5782e808536eff32409f9c1c897f64e58d29ea693332127018a088e1c295c0ed\n",
            "Firmware integrity verified\n"
          ]
        }
      ]
    },
    {
      "cell_type": "code",
      "source": [
        "import hashlib\n",
        "\n",
        "def calculate_data_hash(data):\n",
        "    return hashlib.sha256(data).hexdigest()\n",
        "\n",
        "def sign_firmware(firmware_data, private_key):\n",
        "    firmware_hash = calculate_data_hash(firmware_data)\n",
        "    return firmware_hash\n",
        "\n",
        "def verify_firmware_integrity(firmware_data, signature, public_key):\n",
        "    recalculated_hash = calculate_data_hash(firmware_data)\n",
        "    return recalculated_hash == signature\n",
        "\n",
        "def main():\n",
        "    try:\n",
        "        firmware_data = input(\"Enter the firmware data: \").encode('utf-8')\n",
        "        private_key = \"my_private_key\"\n",
        "        public_key = \"my_public_key\"\n",
        "        signature = sign_firmware(firmware_data, private_key)\n",
        "        print(\"Firmware Signature:\", signature)\n",
        "\n",
        "        if verify_firmware_integrity(firmware_data, signature, public_key):\n",
        "            print(\"Firmware integrity verified\")\n",
        "        else:\n",
        "            print(\"Firmware integrity check failed. Possible tampering detected.\")\n",
        "    except Exception as e:\n",
        "        print(\"An error occurred:\", e)\n",
        "\n",
        "if __name__ == \"__main__\":\n",
        "    main()\n"
      ],
      "metadata": {
        "id": "V6s29Fch-T2A"
      },
      "execution_count": null,
      "outputs": []
    },
    {
      "cell_type": "code",
      "source": [
        "import hashlib\n",
        "def calculate_data_hash(data):\n",
        "  return hashlib.sha256(data).hexdigest()\n",
        "def sign_firmware(private_key, firmware_data):\n",
        "    firmware_hash = calculate_data_hash(firmware_data)\n",
        "    return firmware_hash\n",
        "def verify_firmware_integrity(public_key, firmware_data, signature):\n",
        "      recalculated_hash = calculate_data_hash(firmware_data)\n",
        "      return recalculated_hash == signature\n",
        "def main():\n",
        "  firmware_data = input(\"Enter the firmware data: \").encode('utf-8')\n",
        "  private_key = input(\"Enter name of the private key file: \")\n",
        "  public_key = input(\"Enter name of the public key file: \")\n",
        "  signature = sign_firmware(private_key, firmware_data)\n",
        "  print(\"Firmware Signature:\", signature)\n",
        "\n",
        "  if verify_firmware_integrity(public_key, firmware_data, signature):\n",
        "    print(\"Firmware integrity verified\")\n",
        "  else:\n",
        "    print(\"Firmware integrity check failed. possible tampering detected\")\n",
        "if __name__ == \"__main__\":\n",
        "       main()\n",
        ""
      ],
      "metadata": {
        "colab": {
          "base_uri": "https://localhost:8080/"
        },
        "id": "Hmz77ic4Bqzq",
        "outputId": "9e608b4b-3137-4eef-fcb8-a243fdafbb2e"
      },
      "execution_count": 18,
      "outputs": [
        {
          "output_type": "stream",
          "name": "stdout",
          "text": [
            "Enter the firmware data: abc\n",
            "Enter name of the private key file: abc\n",
            "Enter name of the public key file: abc\n",
            "Firmware Signature: ba7816bf8f01cfea414140de5dae2223b00361a396177a9cb410ff61f20015ad\n",
            "Firmware integrity verified\n"
          ]
        }
      ]
    },
    {
      "cell_type": "code",
      "source": [
        "import hashlib\n",
        "def calculate_firmware_hash(firmware_data):\n",
        "  return hashlib.sha256(firmware_data).hexdigest()\n",
        "def verify_firmware_integrity(firmware_data, expected_hash):\n",
        "  firmware_hash = calculate_firmware_hash(firmware_data)\n",
        "  return firmware_hash == expected_hash\n",
        "sample_firmware_data = b'\\x01\\x02\\x03\\x04\\x05\\x06\\x07\\x08\\x09\\x0a'\n",
        "expected_hash = 'a1b2x3d4e5f6g7h8i9j0'\n",
        "tampered_firmware_data = sample_firmware_data[:5] + b'xff' + sample_firmware_data[6:]\n",
        "\n",
        "print(\"Verifying integrity of original firmware:\")\n",
        "if verify_firmware_integrity(sample_firmware_data, expected_hash):\n",
        "  print(\"Original firmware integrity verified\")\n",
        "else:\n",
        "  print(\"Original firmware integrity check failed. Possible tampering detected.\")\n",
        "print(\"\\nVerifying integrity of tampered firmware:\")\n",
        "if verify_firmware_integrity(tampered_firmware_data, expected_hash):\n",
        "  print(\"Tampered firmware integrity verified\")\n",
        "else:\n",
        "  print(\"Tampered firmware integrity check failed. tampering detected\")\n",
        "\n"
      ],
      "metadata": {
        "colab": {
          "base_uri": "https://localhost:8080/"
        },
        "id": "vabest3YHIL_",
        "outputId": "3233f83a-df02-4583-ba56-3c172fd93a8b"
      },
      "execution_count": 21,
      "outputs": [
        {
          "output_type": "stream",
          "name": "stdout",
          "text": [
            "Verifying integrity of original firmware:\n",
            "Original firmware integrity check failed. Possible tampering detected.\n",
            "\n",
            "Verifying integrity of tampered firmware:\n",
            "Tampered firmware integrity check failed. tampering detected\n"
          ]
        }
      ]
    },
    {
      "cell_type": "code",
      "source": [
        "import hashlib\n",
        "import random\n",
        "import string\n",
        "\n",
        "def calculate_firmware_hash(firmware_data):\n",
        "    return hashlib.sha256(firmware_data).hexdigest()\n",
        "\n",
        "def generate_secure_key(length=32):\n",
        "    characters = string.ascii_letters + string.digits + string.punctuation\n",
        "    return ''.join(random.choice(characters) for _ in range(length))\n",
        "\n",
        "def encrypt_firmware(firmware_data, cryptographic_key):\n",
        "    encrypted_data = bytes([byte ^ ord(cryptographic_key[i % len(cryptographic_key)]) for i, byte in enumerate(firmware_data)])\n",
        "    return encrypted_data\n",
        "\n",
        "def decrypt_firmware(encrypted_data, cryptographic_key):\n",
        "    decrypted_data = bytes([byte ^ ord(cryptographic_key[i % len(cryptographic_key)]) for i, byte in enumerate(encrypted_data)])\n",
        "    return decrypted_data\n",
        "\n",
        "def main():\n",
        "    firmware_data = b'\\x01\\x02\\x03\\x04\\x05\\x06\\x07\\x08\\x09\\x0a'\n",
        "    cryptographic_key = generate_secure_key()\n",
        "    print(\"Cryptographic Key:\", cryptographic_key)\n",
        "\n",
        "    encrypted_firmware = encrypt_firmware(firmware_data, cryptographic_key)\n",
        "    print(\"Encrypted Firmware:\", encrypted_firmware)\n",
        "\n",
        "    decrypted_firmware = decrypt_firmware(encrypted_firmware, cryptographic_key)\n",
        "    print(\"Decrypted Firmware:\", decrypted_firmware)\n",
        "\n",
        "    original_hash = calculate_firmware_hash(firmware_data)\n",
        "    decrypted_hash = calculate_firmware_hash(decrypted_firmware)\n",
        "\n",
        "    if original_hash == decrypted_hash:\n",
        "        print(\"Firmware integrity verified\")\n",
        "    else:\n",
        "        print(\"Firmware integrity check failed. Possible tampering detected.\")\n",
        "\n",
        "if __name__ == \"__main__\":\n",
        "    main()\n"
      ],
      "metadata": {
        "colab": {
          "base_uri": "https://localhost:8080/"
        },
        "id": "JXn6DUVbJ-ZH",
        "outputId": "9a5eb0e0-fce7-4ff5-9fb2-cdddb8dfa8b5"
      },
      "execution_count": 24,
      "outputs": [
        {
          "output_type": "stream",
          "name": "stdout",
          "text": [
            "Cryptographic Key: OG8uE#Wh+1Z%.7?}2J&z|vKU%k72Thx)\n",
            "Encrypted Firmware: b'NE;q@%P`\";'\n",
            "Decrypted Firmware: b'\\x01\\x02\\x03\\x04\\x05\\x06\\x07\\x08\\t\\n'\n",
            "Firmware integrity verified\n"
          ]
        }
      ]
    },
    {
      "cell_type": "code",
      "source": [
        "import hashlib\n",
        "import random\n",
        "import string\n",
        "\n",
        "def calculate_firmware_hash(firmware_data):\n",
        "    return hashlib.sha256(firmware_data).hexdigest()\n",
        "\n",
        "def generate_secure_key(length=32):\n",
        "    characters = string.ascii_letters + string.digits + string.punctuation\n",
        "    return ''.join(random.choice(characters) for i in range(length))\n",
        "\n",
        "def encrypt_firmware(firmware_data, cryptographic_key):\n",
        "    encrypted_data = bytes([\n",
        "        byte ^ ord(cryptographic_key[i % len(cryptographic_key)])\n",
        "        for i, byte in enumerate(firmware_data)\n",
        "    ])\n",
        "    return encrypted_data\n",
        "\n",
        "def detect_tampering(original_firmware_hash, modified_firmware_hash):\n",
        "    return original_firmware_hash != modified_firmware_hash\n",
        "\n",
        "def main():\n",
        "    firmware_data = b'\\x01\\x02\\x03\\x04\\x05\\x06\\x07\\x08\\x09\\x0a'\n",
        "    cryptographic_key = generate_secure_key()\n",
        "    print(\"Cryptographic Key:\", cryptographic_key)\n",
        "\n",
        "    encrypted_firmware = encrypt_firmware(firmware_data, cryptographic_key)\n",
        "    print(\"Encrypted Firmware:\", encrypted_firmware)\n",
        "\n",
        "    tampered_firmware = bytearray(encrypted_firmware)\n",
        "    tampered_firmware[5] ^= 0xFF  # Bit düzeyinde bozulma simülasyonu\n",
        "    tampered_firmware_hash = calculate_firmware_hash(tampered_firmware)\n",
        "\n",
        "    original_firmware_hash = calculate_firmware_hash(firmware_data)\n",
        "    print(\"\\nOriginal Firmware Hash:\", original_firmware_hash)\n",
        "    print(\"Tampered Firmware Hash:\", tampered_firmware_hash)\n",
        "\n",
        "    if detect_tampering(original_firmware_hash, tampered_firmware_hash):\n",
        "        print(\"Tampering detected. Firmware integrity compromised.\")\n",
        "    else:\n",
        "        print(\"Firmware integrity verified. No tampering detected.\")\n",
        "\n",
        "if __name__ == \"__main__\":\n",
        "    main()\n"
      ],
      "metadata": {
        "colab": {
          "base_uri": "https://localhost:8080/"
        },
        "id": "WFxIWNLDN1b-",
        "outputId": "2e491eb4-25a3-4db2-a85a-0da1fb0cf8d0"
      },
      "execution_count": 25,
      "outputs": [
        {
          "output_type": "stream",
          "name": "stdout",
          "text": [
            "Cryptographic Key: A$f84!mh746j!1.&DTyPN,\"Xo9w#OlR:\n",
            "Encrypted Firmware: b\"@&e<1'j`>>\"\n",
            "\n",
            "Original Firmware Hash: c848e1013f9f04a9d63fa43ce7fd4af035152c7c669a4a404b67107cee5f2e4e\n",
            "Tampered Firmware Hash: d72898e245accc7ed092100b2150b4020721e7de8e6991cc6e6fdeafa8d79121\n",
            "Tampering detected. Firmware integrity compromised.\n"
          ]
        }
      ]
    }
  ]
}